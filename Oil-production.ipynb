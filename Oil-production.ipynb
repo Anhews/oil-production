{
 "cells": [
  {
   "cell_type": "markdown",
   "metadata": {},
   "source": [
    "# Выбор локации для скважины"
   ]
  },
  {
   "cell_type": "markdown",
   "metadata": {},
   "source": [
    "**Объект: Добывающая компания.** \n",
    "\n",
    "**Цель:** Решить, где бурить новую скважину.\n",
    "\n",
    "**Задача:** Построить модель машинного обучения, которая поможет определить регион, где добыча принесёт наибольшую прибыль.\n",
    "\n",
    "**Данные:** Пробы нефти в трёх регионах: в каждом 10 000 месторождений, где измерили качество нефти и объём её запасов.\n",
    "\n",
    "**План:** \n",
    "- В избранном регионе поиск месторождения, определеие значения признаков.\n",
    "- Построение модели и оценка объёма запасов.\n",
    "- Выбор месторождения с самым высокими оценками значений. \n",
    "- Оценка суммарной прибыли отобранных месторождений.\n",
    "\n",
    "**Описание данных:**\n",
    "- id — уникальный идентификатор скважины.\n",
    "- f0, f1, f2 — три признака точек (неважно, что они означают, но сами признаки значимы).\n",
    "- product — объём запасов в скважине (тыс. баррелей).\n",
    "\n",
    "**Условия задачи:**\n",
    "- Использование линейной регрессии.\n",
    "- Исследование 500 точек, для машинного обучение - 200 лучших для разработки.\n",
    "- Бюджет на разработку скважин в регионе — 10 млрд рублей.\n",
    "- Один баррель сырья - 450 рублей дохода. \n",
    "- Доход с каждой единицы продукта составляет 450 тыс. рублей.\n",
    "- Вероятность убытков не больше 2,5%. "
   ]
  },
  {
   "cell_type": "markdown",
   "metadata": {},
   "source": [
    "## Загрузка и подготовка данных"
   ]
  },
  {
   "cell_type": "code",
   "execution_count": 1,
   "metadata": {},
   "outputs": [],
   "source": [
    "# Загрузим необходимые бибилиотеки, функции\n",
    "import pandas as pd\n",
    "from sklearn.model_selection import train_test_split \n",
    "from sklearn.preprocessing import StandardScaler\n",
    "from matplotlib import pyplot as plt\n",
    "import numpy as np\n",
    "import seaborn as sns\n",
    "from sklearn.linear_model import LinearRegression\n",
    "from sklearn.model_selection import cross_val_score\n",
    "from sklearn.metrics import f1_score\n",
    "from sklearn.metrics import r2_score\n",
    "from sklearn.metrics import accuracy_score\n",
    "from sklearn.model_selection import GridSearchCV\n",
    "from sklearn.metrics import mean_squared_error\n",
    "import warnings\n",
    "warnings.filterwarnings(\"ignore\")\n",
    "from scipy import stats as st\n",
    "from IPython.display import display\n",
    "from sklearn.metrics import mean_squared_error\n",
    "from numpy.random import RandomState"
   ]
  },
  {
   "cell_type": "code",
   "execution_count": 2,
   "metadata": {},
   "outputs": [],
   "source": [
    "# Загрузим данные\n",
    "\n",
    "data_0 = pd.read_csv('/datasets/geo_data_0.csv')\n",
    "data_1 = pd.read_csv('/datasets/geo_data_1.csv')\n",
    "data_2 = pd.read_csv('/datasets/geo_data_2.csv')"
   ]
  },
  {
   "cell_type": "markdown",
   "metadata": {},
   "source": [
    "Посмотрим содержание, основную информацию по кол-ву и типам данных, пропускам."
   ]
  },
  {
   "cell_type": "code",
   "execution_count": 3,
   "metadata": {},
   "outputs": [
    {
     "data": {
      "text/html": [
       "<div>\n",
       "<style scoped>\n",
       "    .dataframe tbody tr th:only-of-type {\n",
       "        vertical-align: middle;\n",
       "    }\n",
       "\n",
       "    .dataframe tbody tr th {\n",
       "        vertical-align: top;\n",
       "    }\n",
       "\n",
       "    .dataframe thead th {\n",
       "        text-align: right;\n",
       "    }\n",
       "</style>\n",
       "<table border=\"1\" class=\"dataframe\">\n",
       "  <thead>\n",
       "    <tr style=\"text-align: right;\">\n",
       "      <th></th>\n",
       "      <th>id</th>\n",
       "      <th>f0</th>\n",
       "      <th>f1</th>\n",
       "      <th>f2</th>\n",
       "      <th>product</th>\n",
       "    </tr>\n",
       "  </thead>\n",
       "  <tbody>\n",
       "    <tr>\n",
       "      <th>0</th>\n",
       "      <td>txEyH</td>\n",
       "      <td>0.705745</td>\n",
       "      <td>-0.497823</td>\n",
       "      <td>1.221170</td>\n",
       "      <td>105.280062</td>\n",
       "    </tr>\n",
       "    <tr>\n",
       "      <th>1</th>\n",
       "      <td>2acmU</td>\n",
       "      <td>1.334711</td>\n",
       "      <td>-0.340164</td>\n",
       "      <td>4.365080</td>\n",
       "      <td>73.037750</td>\n",
       "    </tr>\n",
       "    <tr>\n",
       "      <th>2</th>\n",
       "      <td>409Wp</td>\n",
       "      <td>1.022732</td>\n",
       "      <td>0.151990</td>\n",
       "      <td>1.419926</td>\n",
       "      <td>85.265647</td>\n",
       "    </tr>\n",
       "    <tr>\n",
       "      <th>3</th>\n",
       "      <td>iJLyR</td>\n",
       "      <td>-0.032172</td>\n",
       "      <td>0.139033</td>\n",
       "      <td>2.978566</td>\n",
       "      <td>168.620776</td>\n",
       "    </tr>\n",
       "    <tr>\n",
       "      <th>4</th>\n",
       "      <td>Xdl7t</td>\n",
       "      <td>1.988431</td>\n",
       "      <td>0.155413</td>\n",
       "      <td>4.751769</td>\n",
       "      <td>154.036647</td>\n",
       "    </tr>\n",
       "  </tbody>\n",
       "</table>\n",
       "</div>"
      ],
      "text/plain": [
       "      id        f0        f1        f2     product\n",
       "0  txEyH  0.705745 -0.497823  1.221170  105.280062\n",
       "1  2acmU  1.334711 -0.340164  4.365080   73.037750\n",
       "2  409Wp  1.022732  0.151990  1.419926   85.265647\n",
       "3  iJLyR -0.032172  0.139033  2.978566  168.620776\n",
       "4  Xdl7t  1.988431  0.155413  4.751769  154.036647"
      ]
     },
     "metadata": {},
     "output_type": "display_data"
    },
    {
     "data": {
      "text/html": [
       "<div>\n",
       "<style scoped>\n",
       "    .dataframe tbody tr th:only-of-type {\n",
       "        vertical-align: middle;\n",
       "    }\n",
       "\n",
       "    .dataframe tbody tr th {\n",
       "        vertical-align: top;\n",
       "    }\n",
       "\n",
       "    .dataframe thead th {\n",
       "        text-align: right;\n",
       "    }\n",
       "</style>\n",
       "<table border=\"1\" class=\"dataframe\">\n",
       "  <thead>\n",
       "    <tr style=\"text-align: right;\">\n",
       "      <th></th>\n",
       "      <th>id</th>\n",
       "      <th>f0</th>\n",
       "      <th>f1</th>\n",
       "      <th>f2</th>\n",
       "      <th>product</th>\n",
       "    </tr>\n",
       "  </thead>\n",
       "  <tbody>\n",
       "    <tr>\n",
       "      <th>0</th>\n",
       "      <td>kBEdx</td>\n",
       "      <td>-15.001348</td>\n",
       "      <td>-8.276000</td>\n",
       "      <td>-0.005876</td>\n",
       "      <td>3.179103</td>\n",
       "    </tr>\n",
       "    <tr>\n",
       "      <th>1</th>\n",
       "      <td>62mP7</td>\n",
       "      <td>14.272088</td>\n",
       "      <td>-3.475083</td>\n",
       "      <td>0.999183</td>\n",
       "      <td>26.953261</td>\n",
       "    </tr>\n",
       "    <tr>\n",
       "      <th>2</th>\n",
       "      <td>vyE1P</td>\n",
       "      <td>6.263187</td>\n",
       "      <td>-5.948386</td>\n",
       "      <td>5.001160</td>\n",
       "      <td>134.766305</td>\n",
       "    </tr>\n",
       "    <tr>\n",
       "      <th>3</th>\n",
       "      <td>KcrkZ</td>\n",
       "      <td>-13.081196</td>\n",
       "      <td>-11.506057</td>\n",
       "      <td>4.999415</td>\n",
       "      <td>137.945408</td>\n",
       "    </tr>\n",
       "    <tr>\n",
       "      <th>4</th>\n",
       "      <td>AHL4O</td>\n",
       "      <td>12.702195</td>\n",
       "      <td>-8.147433</td>\n",
       "      <td>5.004363</td>\n",
       "      <td>134.766305</td>\n",
       "    </tr>\n",
       "  </tbody>\n",
       "</table>\n",
       "</div>"
      ],
      "text/plain": [
       "      id         f0         f1        f2     product\n",
       "0  kBEdx -15.001348  -8.276000 -0.005876    3.179103\n",
       "1  62mP7  14.272088  -3.475083  0.999183   26.953261\n",
       "2  vyE1P   6.263187  -5.948386  5.001160  134.766305\n",
       "3  KcrkZ -13.081196 -11.506057  4.999415  137.945408\n",
       "4  AHL4O  12.702195  -8.147433  5.004363  134.766305"
      ]
     },
     "metadata": {},
     "output_type": "display_data"
    },
    {
     "data": {
      "text/html": [
       "<div>\n",
       "<style scoped>\n",
       "    .dataframe tbody tr th:only-of-type {\n",
       "        vertical-align: middle;\n",
       "    }\n",
       "\n",
       "    .dataframe tbody tr th {\n",
       "        vertical-align: top;\n",
       "    }\n",
       "\n",
       "    .dataframe thead th {\n",
       "        text-align: right;\n",
       "    }\n",
       "</style>\n",
       "<table border=\"1\" class=\"dataframe\">\n",
       "  <thead>\n",
       "    <tr style=\"text-align: right;\">\n",
       "      <th></th>\n",
       "      <th>id</th>\n",
       "      <th>f0</th>\n",
       "      <th>f1</th>\n",
       "      <th>f2</th>\n",
       "      <th>product</th>\n",
       "    </tr>\n",
       "  </thead>\n",
       "  <tbody>\n",
       "    <tr>\n",
       "      <th>0</th>\n",
       "      <td>fwXo0</td>\n",
       "      <td>-1.146987</td>\n",
       "      <td>0.963328</td>\n",
       "      <td>-0.828965</td>\n",
       "      <td>27.758673</td>\n",
       "    </tr>\n",
       "    <tr>\n",
       "      <th>1</th>\n",
       "      <td>WJtFt</td>\n",
       "      <td>0.262778</td>\n",
       "      <td>0.269839</td>\n",
       "      <td>-2.530187</td>\n",
       "      <td>56.069697</td>\n",
       "    </tr>\n",
       "    <tr>\n",
       "      <th>2</th>\n",
       "      <td>ovLUW</td>\n",
       "      <td>0.194587</td>\n",
       "      <td>0.289035</td>\n",
       "      <td>-5.586433</td>\n",
       "      <td>62.871910</td>\n",
       "    </tr>\n",
       "    <tr>\n",
       "      <th>3</th>\n",
       "      <td>q6cA6</td>\n",
       "      <td>2.236060</td>\n",
       "      <td>-0.553760</td>\n",
       "      <td>0.930038</td>\n",
       "      <td>114.572842</td>\n",
       "    </tr>\n",
       "    <tr>\n",
       "      <th>4</th>\n",
       "      <td>WPMUX</td>\n",
       "      <td>-0.515993</td>\n",
       "      <td>1.716266</td>\n",
       "      <td>5.899011</td>\n",
       "      <td>149.600746</td>\n",
       "    </tr>\n",
       "  </tbody>\n",
       "</table>\n",
       "</div>"
      ],
      "text/plain": [
       "      id        f0        f1        f2     product\n",
       "0  fwXo0 -1.146987  0.963328 -0.828965   27.758673\n",
       "1  WJtFt  0.262778  0.269839 -2.530187   56.069697\n",
       "2  ovLUW  0.194587  0.289035 -5.586433   62.871910\n",
       "3  q6cA6  2.236060 -0.553760  0.930038  114.572842\n",
       "4  WPMUX -0.515993  1.716266  5.899011  149.600746"
      ]
     },
     "metadata": {},
     "output_type": "display_data"
    }
   ],
   "source": [
    "display(data_0.head())\n",
    "display(data_1.head())\n",
    "display(data_2.head())"
   ]
  },
  {
   "cell_type": "code",
   "execution_count": 4,
   "metadata": {},
   "outputs": [
    {
     "name": "stdout",
     "output_type": "stream",
     "text": [
      "<class 'pandas.core.frame.DataFrame'>\n",
      "RangeIndex: 100000 entries, 0 to 99999\n",
      "Data columns (total 5 columns):\n",
      " #   Column   Non-Null Count   Dtype  \n",
      "---  ------   --------------   -----  \n",
      " 0   id       100000 non-null  object \n",
      " 1   f0       100000 non-null  float64\n",
      " 2   f1       100000 non-null  float64\n",
      " 3   f2       100000 non-null  float64\n",
      " 4   product  100000 non-null  float64\n",
      "dtypes: float64(4), object(1)\n",
      "memory usage: 3.8+ MB\n"
     ]
    },
    {
     "data": {
      "text/plain": [
       "None"
      ]
     },
     "metadata": {},
     "output_type": "display_data"
    },
    {
     "name": "stdout",
     "output_type": "stream",
     "text": [
      "<class 'pandas.core.frame.DataFrame'>\n",
      "RangeIndex: 100000 entries, 0 to 99999\n",
      "Data columns (total 5 columns):\n",
      " #   Column   Non-Null Count   Dtype  \n",
      "---  ------   --------------   -----  \n",
      " 0   id       100000 non-null  object \n",
      " 1   f0       100000 non-null  float64\n",
      " 2   f1       100000 non-null  float64\n",
      " 3   f2       100000 non-null  float64\n",
      " 4   product  100000 non-null  float64\n",
      "dtypes: float64(4), object(1)\n",
      "memory usage: 3.8+ MB\n"
     ]
    },
    {
     "data": {
      "text/plain": [
       "None"
      ]
     },
     "metadata": {},
     "output_type": "display_data"
    },
    {
     "name": "stdout",
     "output_type": "stream",
     "text": [
      "<class 'pandas.core.frame.DataFrame'>\n",
      "RangeIndex: 100000 entries, 0 to 99999\n",
      "Data columns (total 5 columns):\n",
      " #   Column   Non-Null Count   Dtype  \n",
      "---  ------   --------------   -----  \n",
      " 0   id       100000 non-null  object \n",
      " 1   f0       100000 non-null  float64\n",
      " 2   f1       100000 non-null  float64\n",
      " 3   f2       100000 non-null  float64\n",
      " 4   product  100000 non-null  float64\n",
      "dtypes: float64(4), object(1)\n",
      "memory usage: 3.8+ MB\n"
     ]
    },
    {
     "data": {
      "text/plain": [
       "None"
      ]
     },
     "metadata": {},
     "output_type": "display_data"
    }
   ],
   "source": [
    "display(data_0.info())\n",
    "display(data_1.info())\n",
    "display(data_2.info())"
   ]
  },
  {
   "cell_type": "code",
   "execution_count": 5,
   "metadata": {},
   "outputs": [
    {
     "data": {
      "text/html": [
       "<div>\n",
       "<style scoped>\n",
       "    .dataframe tbody tr th:only-of-type {\n",
       "        vertical-align: middle;\n",
       "    }\n",
       "\n",
       "    .dataframe tbody tr th {\n",
       "        vertical-align: top;\n",
       "    }\n",
       "\n",
       "    .dataframe thead th {\n",
       "        text-align: right;\n",
       "    }\n",
       "</style>\n",
       "<table border=\"1\" class=\"dataframe\">\n",
       "  <thead>\n",
       "    <tr style=\"text-align: right;\">\n",
       "      <th></th>\n",
       "      <th>f0</th>\n",
       "      <th>f1</th>\n",
       "      <th>f2</th>\n",
       "      <th>product</th>\n",
       "    </tr>\n",
       "  </thead>\n",
       "  <tbody>\n",
       "    <tr>\n",
       "      <th>count</th>\n",
       "      <td>100000.000000</td>\n",
       "      <td>100000.000000</td>\n",
       "      <td>100000.000000</td>\n",
       "      <td>100000.000000</td>\n",
       "    </tr>\n",
       "    <tr>\n",
       "      <th>mean</th>\n",
       "      <td>0.500419</td>\n",
       "      <td>0.250143</td>\n",
       "      <td>2.502647</td>\n",
       "      <td>92.500000</td>\n",
       "    </tr>\n",
       "    <tr>\n",
       "      <th>std</th>\n",
       "      <td>0.871832</td>\n",
       "      <td>0.504433</td>\n",
       "      <td>3.248248</td>\n",
       "      <td>44.288691</td>\n",
       "    </tr>\n",
       "    <tr>\n",
       "      <th>min</th>\n",
       "      <td>-1.408605</td>\n",
       "      <td>-0.848218</td>\n",
       "      <td>-12.088328</td>\n",
       "      <td>0.000000</td>\n",
       "    </tr>\n",
       "    <tr>\n",
       "      <th>25%</th>\n",
       "      <td>-0.072580</td>\n",
       "      <td>-0.200881</td>\n",
       "      <td>0.287748</td>\n",
       "      <td>56.497507</td>\n",
       "    </tr>\n",
       "    <tr>\n",
       "      <th>50%</th>\n",
       "      <td>0.502360</td>\n",
       "      <td>0.250252</td>\n",
       "      <td>2.515969</td>\n",
       "      <td>91.849972</td>\n",
       "    </tr>\n",
       "    <tr>\n",
       "      <th>75%</th>\n",
       "      <td>1.073581</td>\n",
       "      <td>0.700646</td>\n",
       "      <td>4.715088</td>\n",
       "      <td>128.564089</td>\n",
       "    </tr>\n",
       "    <tr>\n",
       "      <th>max</th>\n",
       "      <td>2.362331</td>\n",
       "      <td>1.343769</td>\n",
       "      <td>16.003790</td>\n",
       "      <td>185.364347</td>\n",
       "    </tr>\n",
       "  </tbody>\n",
       "</table>\n",
       "</div>"
      ],
      "text/plain": [
       "                  f0             f1             f2        product\n",
       "count  100000.000000  100000.000000  100000.000000  100000.000000\n",
       "mean        0.500419       0.250143       2.502647      92.500000\n",
       "std         0.871832       0.504433       3.248248      44.288691\n",
       "min        -1.408605      -0.848218     -12.088328       0.000000\n",
       "25%        -0.072580      -0.200881       0.287748      56.497507\n",
       "50%         0.502360       0.250252       2.515969      91.849972\n",
       "75%         1.073581       0.700646       4.715088     128.564089\n",
       "max         2.362331       1.343769      16.003790     185.364347"
      ]
     },
     "metadata": {},
     "output_type": "display_data"
    },
    {
     "data": {
      "text/html": [
       "<div>\n",
       "<style scoped>\n",
       "    .dataframe tbody tr th:only-of-type {\n",
       "        vertical-align: middle;\n",
       "    }\n",
       "\n",
       "    .dataframe tbody tr th {\n",
       "        vertical-align: top;\n",
       "    }\n",
       "\n",
       "    .dataframe thead th {\n",
       "        text-align: right;\n",
       "    }\n",
       "</style>\n",
       "<table border=\"1\" class=\"dataframe\">\n",
       "  <thead>\n",
       "    <tr style=\"text-align: right;\">\n",
       "      <th></th>\n",
       "      <th>f0</th>\n",
       "      <th>f1</th>\n",
       "      <th>f2</th>\n",
       "      <th>product</th>\n",
       "    </tr>\n",
       "  </thead>\n",
       "  <tbody>\n",
       "    <tr>\n",
       "      <th>count</th>\n",
       "      <td>100000.000000</td>\n",
       "      <td>100000.000000</td>\n",
       "      <td>100000.000000</td>\n",
       "      <td>100000.000000</td>\n",
       "    </tr>\n",
       "    <tr>\n",
       "      <th>mean</th>\n",
       "      <td>1.141296</td>\n",
       "      <td>-4.796579</td>\n",
       "      <td>2.494541</td>\n",
       "      <td>68.825000</td>\n",
       "    </tr>\n",
       "    <tr>\n",
       "      <th>std</th>\n",
       "      <td>8.965932</td>\n",
       "      <td>5.119872</td>\n",
       "      <td>1.703572</td>\n",
       "      <td>45.944423</td>\n",
       "    </tr>\n",
       "    <tr>\n",
       "      <th>min</th>\n",
       "      <td>-31.609576</td>\n",
       "      <td>-26.358598</td>\n",
       "      <td>-0.018144</td>\n",
       "      <td>0.000000</td>\n",
       "    </tr>\n",
       "    <tr>\n",
       "      <th>25%</th>\n",
       "      <td>-6.298551</td>\n",
       "      <td>-8.267985</td>\n",
       "      <td>1.000021</td>\n",
       "      <td>26.953261</td>\n",
       "    </tr>\n",
       "    <tr>\n",
       "      <th>50%</th>\n",
       "      <td>1.153055</td>\n",
       "      <td>-4.813172</td>\n",
       "      <td>2.011479</td>\n",
       "      <td>57.085625</td>\n",
       "    </tr>\n",
       "    <tr>\n",
       "      <th>75%</th>\n",
       "      <td>8.621015</td>\n",
       "      <td>-1.332816</td>\n",
       "      <td>3.999904</td>\n",
       "      <td>107.813044</td>\n",
       "    </tr>\n",
       "    <tr>\n",
       "      <th>max</th>\n",
       "      <td>29.421755</td>\n",
       "      <td>18.734063</td>\n",
       "      <td>5.019721</td>\n",
       "      <td>137.945408</td>\n",
       "    </tr>\n",
       "  </tbody>\n",
       "</table>\n",
       "</div>"
      ],
      "text/plain": [
       "                  f0             f1             f2        product\n",
       "count  100000.000000  100000.000000  100000.000000  100000.000000\n",
       "mean        1.141296      -4.796579       2.494541      68.825000\n",
       "std         8.965932       5.119872       1.703572      45.944423\n",
       "min       -31.609576     -26.358598      -0.018144       0.000000\n",
       "25%        -6.298551      -8.267985       1.000021      26.953261\n",
       "50%         1.153055      -4.813172       2.011479      57.085625\n",
       "75%         8.621015      -1.332816       3.999904     107.813044\n",
       "max        29.421755      18.734063       5.019721     137.945408"
      ]
     },
     "metadata": {},
     "output_type": "display_data"
    },
    {
     "data": {
      "text/html": [
       "<div>\n",
       "<style scoped>\n",
       "    .dataframe tbody tr th:only-of-type {\n",
       "        vertical-align: middle;\n",
       "    }\n",
       "\n",
       "    .dataframe tbody tr th {\n",
       "        vertical-align: top;\n",
       "    }\n",
       "\n",
       "    .dataframe thead th {\n",
       "        text-align: right;\n",
       "    }\n",
       "</style>\n",
       "<table border=\"1\" class=\"dataframe\">\n",
       "  <thead>\n",
       "    <tr style=\"text-align: right;\">\n",
       "      <th></th>\n",
       "      <th>f0</th>\n",
       "      <th>f1</th>\n",
       "      <th>f2</th>\n",
       "      <th>product</th>\n",
       "    </tr>\n",
       "  </thead>\n",
       "  <tbody>\n",
       "    <tr>\n",
       "      <th>count</th>\n",
       "      <td>100000.000000</td>\n",
       "      <td>100000.000000</td>\n",
       "      <td>100000.000000</td>\n",
       "      <td>100000.000000</td>\n",
       "    </tr>\n",
       "    <tr>\n",
       "      <th>mean</th>\n",
       "      <td>0.002023</td>\n",
       "      <td>-0.002081</td>\n",
       "      <td>2.495128</td>\n",
       "      <td>95.000000</td>\n",
       "    </tr>\n",
       "    <tr>\n",
       "      <th>std</th>\n",
       "      <td>1.732045</td>\n",
       "      <td>1.730417</td>\n",
       "      <td>3.473445</td>\n",
       "      <td>44.749921</td>\n",
       "    </tr>\n",
       "    <tr>\n",
       "      <th>min</th>\n",
       "      <td>-8.760004</td>\n",
       "      <td>-7.084020</td>\n",
       "      <td>-11.970335</td>\n",
       "      <td>0.000000</td>\n",
       "    </tr>\n",
       "    <tr>\n",
       "      <th>25%</th>\n",
       "      <td>-1.162288</td>\n",
       "      <td>-1.174820</td>\n",
       "      <td>0.130359</td>\n",
       "      <td>59.450441</td>\n",
       "    </tr>\n",
       "    <tr>\n",
       "      <th>50%</th>\n",
       "      <td>0.009424</td>\n",
       "      <td>-0.009482</td>\n",
       "      <td>2.484236</td>\n",
       "      <td>94.925613</td>\n",
       "    </tr>\n",
       "    <tr>\n",
       "      <th>75%</th>\n",
       "      <td>1.158535</td>\n",
       "      <td>1.163678</td>\n",
       "      <td>4.858794</td>\n",
       "      <td>130.595027</td>\n",
       "    </tr>\n",
       "    <tr>\n",
       "      <th>max</th>\n",
       "      <td>7.238262</td>\n",
       "      <td>7.844801</td>\n",
       "      <td>16.739402</td>\n",
       "      <td>190.029838</td>\n",
       "    </tr>\n",
       "  </tbody>\n",
       "</table>\n",
       "</div>"
      ],
      "text/plain": [
       "                  f0             f1             f2        product\n",
       "count  100000.000000  100000.000000  100000.000000  100000.000000\n",
       "mean        0.002023      -0.002081       2.495128      95.000000\n",
       "std         1.732045       1.730417       3.473445      44.749921\n",
       "min        -8.760004      -7.084020     -11.970335       0.000000\n",
       "25%        -1.162288      -1.174820       0.130359      59.450441\n",
       "50%         0.009424      -0.009482       2.484236      94.925613\n",
       "75%         1.158535       1.163678       4.858794     130.595027\n",
       "max         7.238262       7.844801      16.739402     190.029838"
      ]
     },
     "metadata": {},
     "output_type": "display_data"
    }
   ],
   "source": [
    "display(data_0.describe())\n",
    "display(data_1.describe())\n",
    "display(data_2.describe())"
   ]
  },
  {
   "cell_type": "markdown",
   "metadata": {},
   "source": [
    "Удалим столбец с ID, тип объект. Для моделей и расчета прибыли он не потребуется, будет достаточно индексов."
   ]
  },
  {
   "cell_type": "code",
   "execution_count": 6,
   "metadata": {},
   "outputs": [],
   "source": [
    "data_0.drop(['id'], axis='columns', inplace=True)"
   ]
  },
  {
   "cell_type": "code",
   "execution_count": 7,
   "metadata": {},
   "outputs": [],
   "source": [
    "data_1.drop(['id'], axis='columns', inplace=True)"
   ]
  },
  {
   "cell_type": "code",
   "execution_count": 8,
   "metadata": {},
   "outputs": [],
   "source": [
    "data_2.drop(['id'], axis='columns', inplace=True)"
   ]
  },
  {
   "cell_type": "markdown",
   "metadata": {},
   "source": [
    "По статистическим данным - средние близки к медианам, выбросов в целом нет. Посмотрим корреляцию признаков."
   ]
  },
  {
   "cell_type": "code",
   "execution_count": 9,
   "metadata": {},
   "outputs": [
    {
     "data": {
      "text/html": [
       "<div>\n",
       "<style scoped>\n",
       "    .dataframe tbody tr th:only-of-type {\n",
       "        vertical-align: middle;\n",
       "    }\n",
       "\n",
       "    .dataframe tbody tr th {\n",
       "        vertical-align: top;\n",
       "    }\n",
       "\n",
       "    .dataframe thead th {\n",
       "        text-align: right;\n",
       "    }\n",
       "</style>\n",
       "<table border=\"1\" class=\"dataframe\">\n",
       "  <thead>\n",
       "    <tr style=\"text-align: right;\">\n",
       "      <th></th>\n",
       "      <th>f0</th>\n",
       "      <th>f1</th>\n",
       "      <th>f2</th>\n",
       "      <th>product</th>\n",
       "    </tr>\n",
       "  </thead>\n",
       "  <tbody>\n",
       "    <tr>\n",
       "      <th>f0</th>\n",
       "      <td>1.000000</td>\n",
       "      <td>-0.440723</td>\n",
       "      <td>-0.003153</td>\n",
       "      <td>0.143536</td>\n",
       "    </tr>\n",
       "    <tr>\n",
       "      <th>f1</th>\n",
       "      <td>-0.440723</td>\n",
       "      <td>1.000000</td>\n",
       "      <td>0.001724</td>\n",
       "      <td>-0.192356</td>\n",
       "    </tr>\n",
       "    <tr>\n",
       "      <th>f2</th>\n",
       "      <td>-0.003153</td>\n",
       "      <td>0.001724</td>\n",
       "      <td>1.000000</td>\n",
       "      <td>0.483663</td>\n",
       "    </tr>\n",
       "    <tr>\n",
       "      <th>product</th>\n",
       "      <td>0.143536</td>\n",
       "      <td>-0.192356</td>\n",
       "      <td>0.483663</td>\n",
       "      <td>1.000000</td>\n",
       "    </tr>\n",
       "  </tbody>\n",
       "</table>\n",
       "</div>"
      ],
      "text/plain": [
       "               f0        f1        f2   product\n",
       "f0       1.000000 -0.440723 -0.003153  0.143536\n",
       "f1      -0.440723  1.000000  0.001724 -0.192356\n",
       "f2      -0.003153  0.001724  1.000000  0.483663\n",
       "product  0.143536 -0.192356  0.483663  1.000000"
      ]
     },
     "execution_count": 9,
     "metadata": {},
     "output_type": "execute_result"
    }
   ],
   "source": [
    "data_0.corr()"
   ]
  },
  {
   "cell_type": "code",
   "execution_count": 10,
   "metadata": {},
   "outputs": [
    {
     "data": {
      "image/png": "[encoded data removed]",
      "text/plain": [
       "<Figure size 432x288 with 2 Axes>"
      ]
     },
     "metadata": {
      "needs_background": "light"
     },
     "output_type": "display_data"
    }
   ],
   "source": [
    "data_0_plot = sns.heatmap(data_0.corr(), cmap=\"Pastel1\", annot=True)\n",
    "plt.show()"
   ]
  },
  {
   "cell_type": "code",
   "execution_count": 11,
   "metadata": {},
   "outputs": [
    {
     "data": {
      "image/png": "[encoded data removed]",
      "text/plain": [
       "<Figure size 432x288 with 2 Axes>"
      ]
     },
     "metadata": {
      "needs_background": "light"
     },
     "output_type": "display_data"
    }
   ],
   "source": [
    "data_1_plot = sns.heatmap(data_1.corr(), cmap=\"Pastel1\", annot=True)\n",
    "plt.show()"
   ]
  },
  {
   "cell_type": "code",
   "execution_count": 12,
   "metadata": {},
   "outputs": [
    {
     "data": {
      "image/png": "[encoded data removed]",
      "text/plain": [
       "<Figure size 432x288 with 2 Axes>"
      ]
     },
     "metadata": {
      "needs_background": "light"
     },
     "output_type": "display_data"
    }
   ],
   "source": [
    "data_2_plot = sns.heatmap(data_2.corr(), cmap=\"Pastel1\", annot=True)\n",
    "plt.show()"
   ]
  },
  {
   "cell_type": "markdown",
   "metadata": {},
   "source": [
    "Заметна высокая корреляция между признаком f2 и целевым признаком в третьем регионе (2). Будем использовать линейную модель, поэтому оставим зависимость."
   ]
  },
  {
   "cell_type": "markdown",
   "metadata": {},
   "source": [
    "В дальнейшем по нашим данным: data_0 - Регион № 1, data_1 - Регион № 2, data_2 - Регион № 2."
   ]
  },
  {
   "cell_type": "markdown",
   "metadata": {},
   "source": [
    "## Обучение и проверка модели"
   ]
  },
  {
   "cell_type": "markdown",
   "metadata": {},
   "source": [
    "Обучим и проверим модель для каждого региона. Для этого разделим данные на обучающую и валидационную выборки в соотношении 75:25. После обучения модели выведем средний запас предсказанного сырья и RMSE модели."
   ]
  },
  {
   "cell_type": "code",
   "execution_count": 13,
   "metadata": {},
   "outputs": [],
   "source": [
    "# Обучение модели\n",
    "def linear_regression(data):\n",
    "    # зададим целевой признак и подготовим данные\n",
    "    target = data['product']\n",
    "    features = data.drop(['product'], axis=1)\n",
    "    \n",
    "    # Разбьём данные на выборки \n",
    "    features_train, features_valid, target_train, target_valid = train_test_split(\n",
    "    features, target, test_size=0.25, random_state=12345)\n",
    "    \n",
    "    # Обучим модель\n",
    "    model = LinearRegression()\n",
    "    model.fit(features_train, target_train)\n",
    "    predicted_valid = model.predict(features_valid)\n",
    "    \n",
    "    rmse = mean_squared_error(target_valid, predicted_valid)**0.5\n",
    "    \n",
    "    # Средний запас сырья\n",
    "    predicted_valid_mean = predicted_valid.sum()/len(predicted_valid)\n",
    "    \n",
    "    return target_valid, predicted_valid, rmse, predicted_valid_mean"
   ]
  },
  {
   "cell_type": "code",
   "execution_count": 14,
   "metadata": {},
   "outputs": [],
   "source": [
    "target_valid_0, predicted_valid_0, rmse_0, predicted_valid_mean_0 = linear_regression(data_0)\n",
    "target_valid_1, predicted_valid_1, rmse_1, predicted_valid_mean_1 = linear_regression(data_1)\n",
    "target_valid_2, predicted_valid_2, rmse_2, predicted_valid_mean_2 = linear_regression(data_2)"
   ]
  },
  {
   "cell_type": "code",
   "execution_count": 15,
   "metadata": {},
   "outputs": [
    {
     "name": "stdout",
     "output_type": "stream",
     "text": [
      "Регион_0. Средний запас, тыс.бар: 92.59256778438035 rmse: 37.5794217150813\n",
      "Регион_1. Средний запас, тыс.бар: 68.728546895446 rmse: 0.893099286775617\n",
      "Регион_2. Средний запас, тыс.бар: 94.96504596800489 rmse: 40.02970873393434\n"
     ]
    }
   ],
   "source": [
    "print('Регион_0. Средний запас, тыс.бар:', predicted_valid_mean_0, 'rmse:', rmse_0)\n",
    "print('Регион_1. Средний запас, тыс.бар:', predicted_valid_mean_1, 'rmse:', rmse_1)\n",
    "print('Регион_2. Средний запас, тыс.бар:', predicted_valid_mean_2, 'rmse:', rmse_2)"
   ]
  },
  {
   "cell_type": "markdown",
   "metadata": {},
   "source": [
    "Итак, чем ближе корень из средней квадратичной ошибки (RMSE) к нулю тем лучше. В нашем случае значение RMSE модели по 2 региону является самым низким. В целом лучшие предсказания по региону.  Предсказания по средним запасам в новых скважинах сырья 92/68 и 94 тыс.бар."
   ]
  },
  {
   "cell_type": "markdown",
   "metadata": {},
   "source": [
    "## Подготовка к расчёту прибыли"
   ]
  },
  {
   "cell_type": "markdown",
   "metadata": {},
   "source": [
    "Все ключевые значения для расчётов сохраним в отдельных переменных"
   ]
  },
  {
   "cell_type": "code",
   "execution_count": 16,
   "metadata": {},
   "outputs": [],
   "source": [
    "reg_budget = 10*10**9 # Бюджет на разработку скважин в регионе\n",
    "barrel_profit = 450  # Доход с одного барреля сырья \n",
    "profit_product_unit = 450 * 10**3 # Доход с каждой единицы продукта\n",
    "total_sampling_points = 500 # Исследование 500 точек\n",
    "sampling_points = 200 # Количество лучших скважин для расчета\n",
    "loss_probability = 0.025 # Максимальная вероятность убытков\n",
    "bootstrap_samples = 1000"
   ]
  },
  {
   "cell_type": "markdown",
   "metadata": {},
   "source": [
    "Рассчитаем достаточный объем сырья для безубыточной разработки новой скважины. Для этого вычислим количество в тыс. баррелей для покрытия затрат на одну скважину (разделим весь бюджет на доход и кол-во лучших скважин)"
   ]
  },
  {
   "cell_type": "code",
   "execution_count": 17,
   "metadata": {},
   "outputs": [
    {
     "name": "stdout",
     "output_type": "stream",
     "text": [
      "Достаточный объём сырья для безубыточной разработки 111(тыс. бар.)\n"
     ]
    }
   ],
   "source": [
    "present_materials_min = reg_budget/profit_product_unit/sampling_points\n",
    "print(f'Достаточный объём сырья для безубыточной разработки {int(present_materials_min)}(тыс. бар.)')"
   ]
  },
  {
   "cell_type": "markdown",
   "metadata": {},
   "source": [
    "Рассчитаем среднее значение запасов во всех трех регионах для разработки без убытков."
   ]
  },
  {
   "cell_type": "code",
   "execution_count": 18,
   "metadata": {},
   "outputs": [
    {
     "name": "stdout",
     "output_type": "stream",
     "text": [
      "Регион_0. Достаточный объем сырья: -18.518543326730764\n",
      "Регион_1. Достаточный объем сырья: -42.38256421566511\n",
      "Регион_2. Достаточный объем сырья: -16.146065143106227\n"
     ]
    }
   ],
   "source": [
    "print('Регион_0. Достаточный объем сырья:', predicted_valid_mean_0 - present_materials_min)\n",
    "print('Регион_1. Достаточный объем сырья:', predicted_valid_mean_1 - present_materials_min)\n",
    "print('Регион_2. Достаточный объем сырья:', predicted_valid_mean_2 - present_materials_min)"
   ]
  },
  {
   "cell_type": "markdown",
   "metadata": {},
   "source": [
    "Среднее значение запасов во всех трех регионах меньше необходимого количества для безубыточной разработки.\n",
    "Ближе всего к необходимому количеству предсказанные запасы в регионе 3. Меньше всего предсказанных запасов в регионе - 2. (Т.е 1 регион на 18.5, 2 - на 42.3, 3 - на 16.1 тыс. баррелей). Посмотрим далее по прибыли."
   ]
  },
  {
   "cell_type": "markdown",
   "metadata": {},
   "source": [
    "## Расчёт прибыли по выбранным скважинам и предсказаниям модели"
   ]
  },
  {
   "cell_type": "markdown",
   "metadata": {},
   "source": [
    "Для начала приведем данные к необходимому типу, выберем скважины, рассчитаем прибуль для максимальных по предсказаниям "
   ]
  },
  {
   "cell_type": "code",
   "execution_count": 19,
   "metadata": {},
   "outputs": [],
   "source": [
    "# к типу Series\n",
    "def series_type(target_valid, predicted_valid):\n",
    "    target_valid = target_valid.reset_index(drop=True)\n",
    "    predicted_valid = pd.Series(predicted_valid)\n",
    "    return target_valid, predicted_valid"
   ]
  },
  {
   "cell_type": "code",
   "execution_count": 20,
   "metadata": {},
   "outputs": [],
   "source": [
    "target_valid_0, predicted_valid_0 = series_type(target_valid_0, predicted_valid_0)\n",
    "target_valid_1, predicted_valid_1 = series_type(target_valid_1, predicted_valid_1)\n",
    "target_valid_2, predicted_valid_2 = series_type(target_valid_2, predicted_valid_2)"
   ]
  },
  {
   "cell_type": "markdown",
   "metadata": {},
   "source": [
    "Выберм скважины с максимальными значениями предсказаний (200) лучших скважин. Рассчитаем прибыль по моделям по каждой скважине с объемом."
   ]
  },
  {
   "cell_type": "code",
   "execution_count": 21,
   "metadata": {},
   "outputs": [],
   "source": [
    "def income_cost(target_valid, predicted_valid):\n",
    "    prob_sort = predicted_valid.sort_values(ascending=False).head(200) # сортируем и выбираем с максимальным объемом\n",
    "    target_choice = target_valid.reset_index(drop=True)[prob_sort.index] \n",
    "    income = target_choice.sum() * profit_product_unit # доход с 200 скважин\n",
    "    return income"
   ]
  },
  {
   "cell_type": "code",
   "execution_count": 22,
   "metadata": {},
   "outputs": [
    {
     "name": "stdout",
     "output_type": "stream",
     "text": [
      "Прибыль по предсказаниям модели скважин составит:\n",
      "для региона 1 - 3320826043.1 руб.\n",
      "для региона 2 - 2415086696.7 руб.\n",
      "для региона 3 - 2710349963.6 руб.\n"
     ]
    }
   ],
   "source": [
    "print('Прибыль по предсказаниям модели скважин составит:')\n",
    "print('для региона 1 - {:.1f} руб.'.format(income_cost(target_valid_0, predicted_valid_0) - reg_budget))\n",
    "print('для региона 2 - {:.1f} руб.'.format(income_cost(target_valid_1, predicted_valid_1) - reg_budget))\n",
    "print('для региона 3 - {:.1f} руб.'.format(income_cost(target_valid_2, predicted_valid_2) - reg_budget))"
   ]
  },
  {
   "cell_type": "markdown",
   "metadata": {},
   "source": [
    "Достаточно высокие значения прибыли для регионов по полученному сырью. Как следствие, слишком высокие затраты. У нас же для исследования только 500 точек."
   ]
  },
  {
   "cell_type": "markdown",
   "metadata": {},
   "source": [
    "## Риски и прибыль для каждого региона"
   ]
  },
  {
   "cell_type": "markdown",
   "metadata": {},
   "source": [
    "Пересчитаем и применим Bootstrap с 1000 выборок, чтобы найти распределение всей прибыли. Из распределения выведем среднюю выручку для региона, доверительный интервал и вероятность риска (минус прибыль)."
   ]
  },
  {
   "cell_type": "code",
   "execution_count": 23,
   "metadata": {},
   "outputs": [],
   "source": [
    "def total_income(target_valid, predicted_valid, count, profit_product_unit, reg_budget):\n",
    "    prob_sort = predicted_valid.sort_values(ascending=False)\n",
    "    selected = target_valid[prob_sort.index][:count]\n",
    "    return int(profit_product_unit * selected.sum() - reg_budget)"
   ]
  },
  {
   "cell_type": "code",
   "execution_count": 24,
   "metadata": {},
   "outputs": [],
   "source": [
    "def bootstrap(target_valid, predicted_valid, count, profit_product_unit, reg_budget):\n",
    "    state = RandomState(12345)\n",
    "    values = []\n",
    "    for i in range(1000):\n",
    "        target_subsample = target_valid.sample(n = total_sampling_points, replace=True, random_state=state)\n",
    "        pred_subsumple = predicted_valid[target_subsample.index]\n",
    "\n",
    "        values.append(total_income(target_subsample, pred_subsumple, sampling_points, profit_product_unit, reg_budget))\n",
    "    values = pd.Series(values)\n",
    "    values_mean = int(values.mean())\n",
    "    lower = int(values.quantile(q=0.025))\n",
    "    upper = int(values.quantile(q=0.975))\n",
    "    risk = int(len(values[values < 0]) / len(values) * 100)\n",
    "    return values_mean, lower, upper, risk"
   ]
  },
  {
   "cell_type": "code",
   "execution_count": 25,
   "metadata": {},
   "outputs": [],
   "source": [
    "values_mean_0, lower_0, upper_0, risk_0  = bootstrap(target_valid_0, predicted_valid_0, sampling_points, profit_product_unit, reg_budget)"
   ]
  },
  {
   "cell_type": "code",
   "execution_count": 26,
   "metadata": {},
   "outputs": [
    {
     "name": "stdout",
     "output_type": "stream",
     "text": [
      "Средняя прибыль по региону №1: 425938526\n",
      "95% доверительный интервал 200 лучших скважин региона №1 от -102090093 до 947976352\n",
      "Риск убытков региона №1: 6 %\n"
     ]
    }
   ],
   "source": [
    "print('Средняя прибыль по региону №1:', values_mean_0)\n",
    "print('95% доверительный интервал 200 лучших скважин региона №1 от', lower_0,'до', upper_0)\n",
    "print('Риск убытков региона №1:', risk_0, '%')"
   ]
  },
  {
   "cell_type": "code",
   "execution_count": 27,
   "metadata": {},
   "outputs": [],
   "source": [
    "values_mean_1, lower_1, upper_1, risk_1  = bootstrap(target_valid_1, predicted_valid_1, sampling_points, profit_product_unit, reg_budget)"
   ]
  },
  {
   "cell_type": "code",
   "execution_count": 28,
   "metadata": {},
   "outputs": [
    {
     "name": "stdout",
     "output_type": "stream",
     "text": [
      "Средняя прибыль по региону №2: 515222772\n",
      "95% доверительный интервал 200 лучших скважин региона №2 от 68873225 до 931547590\n",
      "Риск убытков региона №2: 1 %\n"
     ]
    }
   ],
   "source": [
    "print('Средняя прибыль по региону №2:', values_mean_1)\n",
    "print('95% доверительный интервал 200 лучших скважин региона №2 от', lower_1,'до', upper_1)\n",
    "print('Риск убытков региона №2:', risk_1, '%')"
   ]
  },
  {
   "cell_type": "code",
   "execution_count": 29,
   "metadata": {},
   "outputs": [],
   "source": [
    "values_mean_2, lower_2, upper_2, risk_2  = bootstrap(target_valid_2, predicted_valid_2, sampling_points, profit_product_unit, reg_budget)"
   ]
  },
  {
   "cell_type": "code",
   "execution_count": 30,
   "metadata": {},
   "outputs": [
    {
     "name": "stdout",
     "output_type": "stream",
     "text": [
      "Средняя прибыль по региону №3: 435008362\n",
      "95% доверительный интервал 200 лучших скважин региона №3 от -128880546 до 969706953\n",
      "Риск убытков региона №3: 6 %\n"
     ]
    }
   ],
   "source": [
    "print('Средняя прибыль по региону №3:', values_mean_2)\n",
    "print('95% доверительный интервал 200 лучших скважин региона №3 от', lower_2,'до', upper_2)\n",
    "print('Риск убытков региона №3:', risk_2, '%')"
   ]
  },
  {
   "cell_type": "markdown",
   "metadata": {},
   "source": [
    "Вывод"
   ]
  },
  {
   "cell_type": "markdown",
   "metadata": {},
   "source": [
    "Итак, в рамках проекта проанализированы данные, обучена модель и подготовлен прогноз запасов для скважин трёх регионов.\n",
    "- Рассчитаны средние запасы сырья по регионам и значения RMSE модели: по 2 региону он является самым низким. В целом лучшие предсказания по региону. Предсказания по средним запасам в новых скважинах сырья 92/68 и 94 тыс.бар.\n",
    "- Согласно расчитанной средней выручке все три региона являются прибыльными. Регион №1 - 426 млн. рублей, регион №2 - 515 млн. рублей, регион №3 - 435 млн. рублей.\n",
    "- Регион №1 и №3 обладают очень высокой вероятностью убытков (по 6%). В нашем случае вероятность убытков должна быть меньше 2,5 %, левая граница дов. интервала также отрицательная.\n",
    "- Таким образом, лучший регион по показателям - №2. Там добыча принесёт наибольшую прибыль, этот регион для разработки месторождения может быть предложен."
   ]
  }
 ],
 "metadata": {
  "ExecuteTimeLog": [
   {
    "duration": 1671,
    "start_time": "2022-12-05T08:47:46.061Z"
   },
   {
    "duration": 4,
    "start_time": "2022-12-05T08:48:51.563Z"
   },
   {
    "duration": 4,
    "start_time": "2022-12-05T08:52:19.862Z"
   },
   {
    "duration": 5,
    "start_time": "2022-12-05T08:54:20.313Z"
   },
   {
    "duration": 1740,
    "start_time": "2022-12-05T08:57:17.563Z"
   },
   {
    "duration": 30,
    "start_time": "2022-12-05T08:59:39.486Z"
   },
   {
    "duration": 43,
    "start_time": "2022-12-05T09:02:26.897Z"
   },
   {
    "duration": 93,
    "start_time": "2022-12-05T09:03:45.818Z"
   },
   {
    "duration": 5,
    "start_time": "2022-12-05T09:05:28.115Z"
   },
   {
    "duration": 343,
    "start_time": "2022-12-05T09:08:17.757Z"
   },
   {
    "duration": 8,
    "start_time": "2022-12-05T09:09:19.654Z"
   },
   {
    "duration": 11,
    "start_time": "2022-12-05T09:09:35.082Z"
   },
   {
    "duration": 7,
    "start_time": "2022-12-05T09:09:57.151Z"
   },
   {
    "duration": 8,
    "start_time": "2022-12-05T09:10:04.519Z"
   },
   {
    "duration": 306,
    "start_time": "2022-12-05T09:10:07.639Z"
   },
   {
    "duration": 314,
    "start_time": "2022-12-05T09:11:23.553Z"
   },
   {
    "duration": 367,
    "start_time": "2022-12-05T09:11:45.417Z"
   },
   {
    "duration": 15,
    "start_time": "2022-12-05T09:16:50.174Z"
   },
   {
    "duration": 4,
    "start_time": "2022-12-05T09:22:58.510Z"
   },
   {
    "duration": 9,
    "start_time": "2022-12-05T09:23:26.605Z"
   },
   {
    "duration": 19,
    "start_time": "2022-12-05T09:23:45.361Z"
   },
   {
    "duration": 4,
    "start_time": "2022-12-05T09:24:03.594Z"
   },
   {
    "duration": 444,
    "start_time": "2022-12-05T09:24:08.046Z"
   },
   {
    "duration": 15,
    "start_time": "2022-12-05T09:24:50.888Z"
   },
   {
    "duration": 80,
    "start_time": "2022-12-05T09:25:20.042Z"
   },
   {
    "duration": 13,
    "start_time": "2022-12-05T09:25:43.287Z"
   },
   {
    "duration": 5,
    "start_time": "2022-12-05T09:26:12.712Z"
   },
   {
    "duration": 5,
    "start_time": "2022-12-05T09:32:03.016Z"
   },
   {
    "duration": 123,
    "start_time": "2022-12-05T09:38:54.605Z"
   },
   {
    "duration": 3,
    "start_time": "2022-12-05T09:39:38.518Z"
   },
   {
    "duration": 69,
    "start_time": "2022-12-05T09:39:43.197Z"
   },
   {
    "duration": 13,
    "start_time": "2022-12-05T09:39:52.846Z"
   },
   {
    "duration": 21,
    "start_time": "2022-12-05T09:44:45.882Z"
   },
   {
    "duration": 5,
    "start_time": "2022-12-05T09:45:17.491Z"
   },
   {
    "duration": 28,
    "start_time": "2022-12-05T09:45:23.203Z"
   },
   {
    "duration": 71,
    "start_time": "2022-12-05T09:45:55.548Z"
   },
   {
    "duration": 5,
    "start_time": "2022-12-05T09:46:07.180Z"
   },
   {
    "duration": 4,
    "start_time": "2022-12-05T09:46:16.788Z"
   },
   {
    "duration": 4,
    "start_time": "2022-12-05T09:46:41.700Z"
   },
   {
    "duration": 261,
    "start_time": "2022-12-05T09:46:43.820Z"
   },
   {
    "duration": 6,
    "start_time": "2022-12-05T09:46:46.044Z"
   },
   {
    "duration": 10,
    "start_time": "2022-12-05T09:49:10.442Z"
   },
   {
    "duration": 4,
    "start_time": "2022-12-05T09:49:15.975Z"
   },
   {
    "duration": 41,
    "start_time": "2022-12-05T09:49:17.945Z"
   },
   {
    "duration": 5,
    "start_time": "2022-12-05T09:50:19.064Z"
   },
   {
    "duration": 4,
    "start_time": "2022-12-05T09:50:24.504Z"
   },
   {
    "duration": 399,
    "start_time": "2022-12-05T09:50:27.391Z"
   },
   {
    "duration": 6,
    "start_time": "2022-12-05T09:50:32.383Z"
   },
   {
    "duration": 11,
    "start_time": "2022-12-05T09:52:05.535Z"
   },
   {
    "duration": 330,
    "start_time": "2022-12-05T09:52:26.962Z"
   },
   {
    "duration": 5,
    "start_time": "2022-12-05T09:52:29.065Z"
   },
   {
    "duration": 55,
    "start_time": "2022-12-06T11:50:04.474Z"
   },
   {
    "duration": 1769,
    "start_time": "2022-12-06T11:50:12.184Z"
   },
   {
    "duration": 701,
    "start_time": "2022-12-06T11:50:14.367Z"
   },
   {
    "duration": 1448,
    "start_time": "2022-12-06T11:50:41.687Z"
   },
   {
    "duration": 378,
    "start_time": "2022-12-06T11:50:43.551Z"
   },
   {
    "duration": 29,
    "start_time": "2022-12-06T11:50:45.755Z"
   },
   {
    "duration": 41,
    "start_time": "2022-12-06T11:50:48.725Z"
   },
   {
    "duration": 116,
    "start_time": "2022-12-06T11:50:51.680Z"
   },
   {
    "duration": 7,
    "start_time": "2022-12-06T11:50:54.663Z"
   },
   {
    "duration": 7,
    "start_time": "2022-12-06T11:50:56.943Z"
   },
   {
    "duration": 9,
    "start_time": "2022-12-06T11:50:58.759Z"
   },
   {
    "duration": 19,
    "start_time": "2022-12-06T11:51:01.448Z"
   },
   {
    "duration": 349,
    "start_time": "2022-12-06T11:51:03.687Z"
   },
   {
    "duration": 319,
    "start_time": "2022-12-06T11:51:06.127Z"
   },
   {
    "duration": 350,
    "start_time": "2022-12-06T11:51:08.479Z"
   },
   {
    "duration": 5,
    "start_time": "2022-12-06T11:51:11.680Z"
   },
   {
    "duration": 285,
    "start_time": "2022-12-06T11:51:13.776Z"
   },
   {
    "duration": 10,
    "start_time": "2022-12-06T11:52:04.193Z"
   },
   {
    "duration": 4,
    "start_time": "2022-12-06T11:52:56.891Z"
   },
   {
    "duration": 66,
    "start_time": "2022-12-06T11:53:00.250Z"
   },
   {
    "duration": 319,
    "start_time": "2022-12-06T11:53:31.803Z"
   },
   {
    "duration": 4,
    "start_time": "2022-12-06T11:53:34.147Z"
   },
   {
    "duration": 4,
    "start_time": "2022-12-06T12:24:22.379Z"
   },
   {
    "duration": 11,
    "start_time": "2022-12-06T12:24:24.298Z"
   },
   {
    "duration": 10,
    "start_time": "2022-12-06T12:24:38.058Z"
   },
   {
    "duration": 4,
    "start_time": "2022-12-06T12:24:43.627Z"
   },
   {
    "duration": 49,
    "start_time": "2022-12-06T12:28:17.375Z"
   },
   {
    "duration": 4,
    "start_time": "2022-12-06T12:28:49.168Z"
   },
   {
    "duration": 4,
    "start_time": "2022-12-06T12:33:26.492Z"
   },
   {
    "duration": 4,
    "start_time": "2022-12-06T12:33:39.923Z"
   },
   {
    "duration": 4,
    "start_time": "2022-12-06T12:33:47.148Z"
   },
   {
    "duration": 4,
    "start_time": "2022-12-06T12:36:08.766Z"
   },
   {
    "duration": 4,
    "start_time": "2022-12-06T12:36:11.606Z"
   },
   {
    "duration": 4,
    "start_time": "2022-12-06T12:36:14.408Z"
   },
   {
    "duration": 6,
    "start_time": "2022-12-06T13:19:33.050Z"
   },
   {
    "duration": 9,
    "start_time": "2022-12-06T13:23:25.782Z"
   },
   {
    "duration": 13,
    "start_time": "2022-12-06T13:23:48.189Z"
   },
   {
    "duration": 9,
    "start_time": "2022-12-06T13:24:28.959Z"
   },
   {
    "duration": 10,
    "start_time": "2022-12-06T13:25:19.976Z"
   },
   {
    "duration": 10,
    "start_time": "2022-12-06T13:26:19.737Z"
   },
   {
    "duration": 16,
    "start_time": "2022-12-06T13:26:33.985Z"
   },
   {
    "duration": 12,
    "start_time": "2022-12-06T13:26:46.858Z"
   },
   {
    "duration": 4,
    "start_time": "2022-12-06T13:29:05.828Z"
   },
   {
    "duration": 6,
    "start_time": "2022-12-06T13:30:51.078Z"
   },
   {
    "duration": 11,
    "start_time": "2022-12-06T13:30:58.877Z"
   },
   {
    "duration": 3,
    "start_time": "2022-12-06T13:31:50.679Z"
   },
   {
    "duration": 6,
    "start_time": "2022-12-06T13:45:53.940Z"
   },
   {
    "duration": 10,
    "start_time": "2022-12-06T13:45:57.323Z"
   },
   {
    "duration": 62,
    "start_time": "2022-12-06T13:46:23.460Z"
   },
   {
    "duration": 12,
    "start_time": "2022-12-06T13:47:16.845Z"
   },
   {
    "duration": 6,
    "start_time": "2022-12-06T13:48:10.511Z"
   },
   {
    "duration": 10,
    "start_time": "2022-12-06T13:48:13.598Z"
   },
   {
    "duration": 11,
    "start_time": "2022-12-06T13:48:21.158Z"
   },
   {
    "duration": 16,
    "start_time": "2022-12-06T13:48:48.111Z"
   },
   {
    "duration": 15,
    "start_time": "2022-12-06T13:48:55.447Z"
   },
   {
    "duration": 6,
    "start_time": "2022-12-06T13:50:20.633Z"
   },
   {
    "duration": 20,
    "start_time": "2022-12-06T13:50:23.424Z"
   },
   {
    "duration": 1395,
    "start_time": "2022-12-07T05:21:27.849Z"
   },
   {
    "duration": 601,
    "start_time": "2022-12-07T05:21:30.242Z"
   },
   {
    "duration": 26,
    "start_time": "2022-12-07T05:21:31.935Z"
   },
   {
    "duration": 38,
    "start_time": "2022-12-07T05:21:34.174Z"
   },
   {
    "duration": 97,
    "start_time": "2022-12-07T05:21:36.663Z"
   },
   {
    "duration": 6,
    "start_time": "2022-12-07T05:21:39.463Z"
   },
   {
    "duration": 6,
    "start_time": "2022-12-07T05:21:41.207Z"
   },
   {
    "duration": 8,
    "start_time": "2022-12-07T05:21:43.014Z"
   },
   {
    "duration": 14,
    "start_time": "2022-12-07T05:21:46.215Z"
   },
   {
    "duration": 387,
    "start_time": "2022-12-07T05:21:48.151Z"
   },
   {
    "duration": 286,
    "start_time": "2022-12-07T05:21:50.455Z"
   },
   {
    "duration": 286,
    "start_time": "2022-12-07T05:21:52.991Z"
   },
   {
    "duration": 5,
    "start_time": "2022-12-07T05:21:55.727Z"
   },
   {
    "duration": 448,
    "start_time": "2022-12-07T05:21:57.967Z"
   },
   {
    "duration": 5,
    "start_time": "2022-12-07T05:21:59.686Z"
   },
   {
    "duration": 3,
    "start_time": "2022-12-07T05:22:01.975Z"
   },
   {
    "duration": 4,
    "start_time": "2022-12-07T05:22:04.007Z"
   },
   {
    "duration": 4,
    "start_time": "2022-12-07T05:22:06.360Z"
   },
   {
    "duration": 3,
    "start_time": "2022-12-07T05:22:08.311Z"
   },
   {
    "duration": 4,
    "start_time": "2022-12-07T05:22:10.327Z"
   },
   {
    "duration": 3,
    "start_time": "2022-12-07T05:26:35.964Z"
   },
   {
    "duration": 69,
    "start_time": "2022-12-07T05:30:31.888Z"
   },
   {
    "duration": 122,
    "start_time": "2022-12-07T05:31:18.976Z"
   },
   {
    "duration": 3,
    "start_time": "2022-12-07T05:31:57.311Z"
   },
   {
    "duration": 5,
    "start_time": "2022-12-07T05:31:58.825Z"
   },
   {
    "duration": 20,
    "start_time": "2022-12-07T05:32:03.960Z"
   },
   {
    "duration": 3,
    "start_time": "2022-12-07T05:34:18.522Z"
   },
   {
    "duration": 3,
    "start_time": "2022-12-07T05:40:50.825Z"
   },
   {
    "duration": 4,
    "start_time": "2022-12-07T05:44:10.493Z"
   },
   {
    "duration": 13,
    "start_time": "2022-12-07T05:45:17.877Z"
   },
   {
    "duration": 5,
    "start_time": "2022-12-07T05:45:37.837Z"
   },
   {
    "duration": 14,
    "start_time": "2022-12-07T05:45:39.591Z"
   },
   {
    "duration": 2,
    "start_time": "2022-12-07T05:45:54.222Z"
   },
   {
    "duration": 12,
    "start_time": "2022-12-07T05:45:57.574Z"
   },
   {
    "duration": 4,
    "start_time": "2022-12-07T05:46:14.598Z"
   },
   {
    "duration": 13,
    "start_time": "2022-12-07T05:46:16.470Z"
   },
   {
    "duration": 3,
    "start_time": "2022-12-07T05:46:37.494Z"
   },
   {
    "duration": 12,
    "start_time": "2022-12-07T05:46:39.143Z"
   },
   {
    "duration": 3,
    "start_time": "2022-12-07T05:46:57.238Z"
   },
   {
    "duration": 5,
    "start_time": "2022-12-07T05:46:58.951Z"
   },
   {
    "duration": 3,
    "start_time": "2022-12-07T05:47:00.631Z"
   },
   {
    "duration": 4,
    "start_time": "2022-12-07T05:47:02.447Z"
   },
   {
    "duration": 1290,
    "start_time": "2022-12-07T05:47:04.223Z"
   },
   {
    "duration": 2,
    "start_time": "2022-12-07T05:47:22.369Z"
   },
   {
    "duration": 1283,
    "start_time": "2022-12-07T05:48:13.344Z"
   },
   {
    "duration": 354,
    "start_time": "2022-12-07T05:48:16.128Z"
   },
   {
    "duration": 25,
    "start_time": "2022-12-07T05:48:17.720Z"
   },
   {
    "duration": 45,
    "start_time": "2022-12-07T05:48:20.105Z"
   },
   {
    "duration": 116,
    "start_time": "2022-12-07T05:48:22.410Z"
   },
   {
    "duration": 7,
    "start_time": "2022-12-07T05:48:24.864Z"
   },
   {
    "duration": 7,
    "start_time": "2022-12-07T05:48:27.120Z"
   },
   {
    "duration": 9,
    "start_time": "2022-12-07T05:48:29.177Z"
   },
   {
    "duration": 16,
    "start_time": "2022-12-07T05:48:57.849Z"
   },
   {
    "duration": 295,
    "start_time": "2022-12-07T05:48:59.705Z"
   },
   {
    "duration": 261,
    "start_time": "2022-12-07T05:49:02.121Z"
   },
   {
    "duration": 290,
    "start_time": "2022-12-07T05:49:04.241Z"
   },
   {
    "duration": 4,
    "start_time": "2022-12-07T05:49:06.699Z"
   },
   {
    "duration": 339,
    "start_time": "2022-12-07T05:49:31.065Z"
   },
   {
    "duration": 4,
    "start_time": "2022-12-07T05:49:33.529Z"
   },
   {
    "duration": 4,
    "start_time": "2022-12-07T05:50:35.236Z"
   },
   {
    "duration": 3,
    "start_time": "2022-12-07T05:50:44.395Z"
   },
   {
    "duration": 3,
    "start_time": "2022-12-07T05:51:14.780Z"
   },
   {
    "duration": 5,
    "start_time": "2022-12-07T05:51:17.267Z"
   },
   {
    "duration": 4,
    "start_time": "2022-12-07T05:51:19.251Z"
   },
   {
    "duration": 3,
    "start_time": "2022-12-07T05:51:21.763Z"
   },
   {
    "duration": 4,
    "start_time": "2022-12-07T05:52:09.885Z"
   },
   {
    "duration": 4,
    "start_time": "2022-12-07T05:56:14.691Z"
   },
   {
    "duration": 98,
    "start_time": "2022-12-07T06:00:31.221Z"
   },
   {
    "duration": 9,
    "start_time": "2022-12-07T06:00:48.941Z"
   },
   {
    "duration": 8,
    "start_time": "2022-12-07T06:01:18.270Z"
   },
   {
    "duration": 3,
    "start_time": "2022-12-07T06:01:31.630Z"
   },
   {
    "duration": 4,
    "start_time": "2022-12-07T06:01:33.502Z"
   },
   {
    "duration": 9,
    "start_time": "2022-12-07T06:01:35.583Z"
   },
   {
    "duration": 9,
    "start_time": "2022-12-07T06:01:53.054Z"
   },
   {
    "duration": 3,
    "start_time": "2022-12-07T06:03:50.360Z"
   },
   {
    "duration": 4,
    "start_time": "2022-12-07T06:03:52.049Z"
   },
   {
    "duration": 3,
    "start_time": "2022-12-07T06:03:53.673Z"
   },
   {
    "duration": 5,
    "start_time": "2022-12-07T06:03:55.448Z"
   },
   {
    "duration": 1236,
    "start_time": "2022-12-07T06:03:58.520Z"
   },
   {
    "duration": 3,
    "start_time": "2022-12-07T06:04:01.744Z"
   },
   {
    "duration": 3,
    "start_time": "2022-12-07T06:05:07.433Z"
   },
   {
    "duration": 1192,
    "start_time": "2022-12-07T06:05:30.889Z"
   },
   {
    "duration": 4,
    "start_time": "2022-12-07T06:05:38.393Z"
   },
   {
    "duration": 3,
    "start_time": "2022-12-07T06:06:11.258Z"
   },
   {
    "duration": 13,
    "start_time": "2022-12-07T06:06:44.851Z"
   },
   {
    "duration": 1205,
    "start_time": "2022-12-07T06:07:06.499Z"
   },
   {
    "duration": 4,
    "start_time": "2022-12-07T06:07:08.851Z"
   },
   {
    "duration": 4,
    "start_time": "2022-12-07T06:08:32.653Z"
   },
   {
    "duration": 3,
    "start_time": "2022-12-07T06:08:55.629Z"
   },
   {
    "duration": 4,
    "start_time": "2022-12-07T06:09:08.781Z"
   },
   {
    "duration": 4,
    "start_time": "2022-12-07T06:09:40.358Z"
   },
   {
    "duration": 4,
    "start_time": "2022-12-07T06:10:10.015Z"
   },
   {
    "duration": 4,
    "start_time": "2022-12-07T06:10:12.486Z"
   },
   {
    "duration": 5,
    "start_time": "2022-12-07T06:12:43.289Z"
   },
   {
    "duration": 4,
    "start_time": "2022-12-07T06:14:15.979Z"
   },
   {
    "duration": 1235,
    "start_time": "2022-12-07T06:14:18.202Z"
   },
   {
    "duration": 5,
    "start_time": "2022-12-07T06:14:38.380Z"
   },
   {
    "duration": 5,
    "start_time": "2022-12-07T06:14:56.891Z"
   },
   {
    "duration": 4,
    "start_time": "2022-12-07T06:15:16.004Z"
   },
   {
    "duration": 1294,
    "start_time": "2022-12-07T06:15:18.275Z"
   },
   {
    "duration": 5,
    "start_time": "2022-12-07T06:15:20.116Z"
   },
   {
    "duration": 4,
    "start_time": "2022-12-07T06:15:22.411Z"
   },
   {
    "duration": 4,
    "start_time": "2022-12-07T06:15:24.284Z"
   },
   {
    "duration": 4,
    "start_time": "2022-12-07T06:15:53.188Z"
   },
   {
    "duration": 3,
    "start_time": "2022-12-07T06:21:16.458Z"
   },
   {
    "duration": 9,
    "start_time": "2022-12-07T06:21:22.289Z"
   },
   {
    "duration": 4,
    "start_time": "2022-12-07T06:24:34.789Z"
   },
   {
    "duration": 8,
    "start_time": "2022-12-07T06:26:15.391Z"
   },
   {
    "duration": 9,
    "start_time": "2022-12-07T06:26:21.414Z"
   },
   {
    "duration": 8,
    "start_time": "2022-12-07T06:26:26.534Z"
   },
   {
    "duration": 4,
    "start_time": "2022-12-07T06:28:35.289Z"
   },
   {
    "duration": 3,
    "start_time": "2022-12-07T06:31:35.132Z"
   },
   {
    "duration": 11,
    "start_time": "2022-12-07T06:31:38.148Z"
   },
   {
    "duration": 11,
    "start_time": "2022-12-07T06:31:44.724Z"
   },
   {
    "duration": 9,
    "start_time": "2022-12-07T06:31:52.285Z"
   },
   {
    "duration": 9,
    "start_time": "2022-12-07T06:31:57.700Z"
   },
   {
    "duration": 9,
    "start_time": "2022-12-07T06:32:12.861Z"
   },
   {
    "duration": 3,
    "start_time": "2022-12-07T06:32:18.556Z"
   },
   {
    "duration": 8,
    "start_time": "2022-12-07T06:32:20.493Z"
   },
   {
    "duration": 9,
    "start_time": "2022-12-07T06:33:30.782Z"
   },
   {
    "duration": 9,
    "start_time": "2022-12-07T06:33:41.630Z"
   },
   {
    "duration": 4,
    "start_time": "2022-12-07T06:49:39.749Z"
   },
   {
    "duration": 3,
    "start_time": "2022-12-07T06:51:56.488Z"
   },
   {
    "duration": 51,
    "start_time": "2022-12-07T06:51:59.616Z"
   },
   {
    "duration": 39,
    "start_time": "2022-12-07T06:52:46.409Z"
   },
   {
    "duration": 13,
    "start_time": "2022-12-07T06:54:10.755Z"
   },
   {
    "duration": 3,
    "start_time": "2022-12-07T06:54:37.803Z"
   },
   {
    "duration": 14,
    "start_time": "2022-12-07T06:54:39.747Z"
   },
   {
    "duration": 17,
    "start_time": "2022-12-07T06:55:24.652Z"
   },
   {
    "duration": 57,
    "start_time": "2022-12-07T06:55:56.844Z"
   },
   {
    "duration": 6,
    "start_time": "2022-12-07T06:56:07.349Z"
   },
   {
    "duration": 14,
    "start_time": "2022-12-07T06:58:56.383Z"
   },
   {
    "duration": 407,
    "start_time": "2022-12-07T07:05:22.966Z"
   },
   {
    "duration": 341,
    "start_time": "2022-12-07T07:05:52.263Z"
   },
   {
    "duration": 288,
    "start_time": "2022-12-07T07:06:20.103Z"
   },
   {
    "duration": 297,
    "start_time": "2022-12-07T07:06:26.791Z"
   },
   {
    "duration": 274,
    "start_time": "2022-12-07T07:07:58.025Z"
   },
   {
    "duration": 303,
    "start_time": "2022-12-07T07:08:09.569Z"
   },
   {
    "duration": 294,
    "start_time": "2022-12-07T07:08:12.112Z"
   },
   {
    "duration": 14,
    "start_time": "2022-12-07T07:28:01.628Z"
   },
   {
    "duration": 20,
    "start_time": "2022-12-07T07:28:12.012Z"
   },
   {
    "duration": 15,
    "start_time": "2022-12-07T07:33:22.953Z"
   },
   {
    "duration": 4,
    "start_time": "2022-12-07T08:12:40.776Z"
   },
   {
    "duration": 350,
    "start_time": "2022-12-07T08:12:43.952Z"
   },
   {
    "duration": 4,
    "start_time": "2022-12-07T08:12:47.824Z"
   },
   {
    "duration": 5,
    "start_time": "2022-12-07T08:17:32.526Z"
   },
   {
    "duration": 4,
    "start_time": "2022-12-07T08:48:42.933Z"
   },
   {
    "duration": 4,
    "start_time": "2022-12-07T08:52:39.043Z"
   },
   {
    "duration": 4,
    "start_time": "2022-12-07T08:52:41.490Z"
   },
   {
    "duration": 5,
    "start_time": "2022-12-07T08:53:46.235Z"
   },
   {
    "duration": 70,
    "start_time": "2022-12-07T08:58:10.079Z"
   },
   {
    "duration": 5,
    "start_time": "2022-12-07T09:16:29.354Z"
   },
   {
    "duration": 14,
    "start_time": "2022-12-07T11:46:35.102Z"
   },
   {
    "duration": 3,
    "start_time": "2022-12-07T11:46:47.805Z"
   },
   {
    "duration": 18,
    "start_time": "2022-12-07T11:46:49.605Z"
   },
   {
    "duration": 14,
    "start_time": "2022-12-07T11:48:01.135Z"
   },
   {
    "duration": 1332,
    "start_time": "2022-12-07T11:49:02.271Z"
   },
   {
    "duration": 395,
    "start_time": "2022-12-07T11:49:04.367Z"
   },
   {
    "duration": 26,
    "start_time": "2022-12-07T11:49:06.632Z"
   },
   {
    "duration": 44,
    "start_time": "2022-12-07T11:49:09.143Z"
   },
   {
    "duration": 90,
    "start_time": "2022-12-07T11:49:12.200Z"
   },
   {
    "duration": 6,
    "start_time": "2022-12-07T11:49:15.487Z"
   },
   {
    "duration": 6,
    "start_time": "2022-12-07T11:49:17.285Z"
   },
   {
    "duration": 9,
    "start_time": "2022-12-07T11:49:19.067Z"
   },
   {
    "duration": 16,
    "start_time": "2022-12-07T11:49:21.287Z"
   },
   {
    "duration": 138,
    "start_time": "2022-12-07T11:49:54.940Z"
   },
   {
    "duration": 102,
    "start_time": "2022-12-07T11:49:59.096Z"
   },
   {
    "duration": 12,
    "start_time": "2022-12-07T11:50:01.808Z"
   },
   {
    "duration": 1329,
    "start_time": "2022-12-07T11:50:21.937Z"
   },
   {
    "duration": 409,
    "start_time": "2022-12-07T11:50:23.889Z"
   },
   {
    "duration": 29,
    "start_time": "2022-12-07T11:50:26.258Z"
   },
   {
    "duration": 40,
    "start_time": "2022-12-07T11:50:28.633Z"
   },
   {
    "duration": 127,
    "start_time": "2022-12-07T11:50:31.073Z"
   },
   {
    "duration": 7,
    "start_time": "2022-12-07T11:50:37.889Z"
   },
   {
    "duration": 6,
    "start_time": "2022-12-07T11:50:39.888Z"
   },
   {
    "duration": 9,
    "start_time": "2022-12-07T11:50:42.050Z"
   },
   {
    "duration": 21,
    "start_time": "2022-12-07T11:50:46.977Z"
   },
   {
    "duration": 341,
    "start_time": "2022-12-07T11:50:49.256Z"
   },
   {
    "duration": 282,
    "start_time": "2022-12-07T11:50:52.017Z"
   },
   {
    "duration": 287,
    "start_time": "2022-12-07T11:50:55.226Z"
   },
   {
    "duration": 4,
    "start_time": "2022-12-07T11:51:01.665Z"
   },
   {
    "duration": 266,
    "start_time": "2022-12-07T11:51:03.834Z"
   },
   {
    "duration": 5,
    "start_time": "2022-12-07T11:51:16.570Z"
   },
   {
    "duration": 3,
    "start_time": "2022-12-07T11:51:21.882Z"
   },
   {
    "duration": 4,
    "start_time": "2022-12-07T11:51:24.745Z"
   },
   {
    "duration": 4,
    "start_time": "2022-12-07T11:51:27.281Z"
   },
   {
    "duration": 3,
    "start_time": "2022-12-07T11:51:35.825Z"
   },
   {
    "duration": 3,
    "start_time": "2022-12-07T11:51:38.962Z"
   },
   {
    "duration": 106,
    "start_time": "2022-12-07T11:51:41.186Z"
   },
   {
    "duration": 4,
    "start_time": "2022-12-07T11:52:39.114Z"
   },
   {
    "duration": 6,
    "start_time": "2022-12-07T11:54:00.318Z"
   },
   {
    "duration": 21,
    "start_time": "2022-12-07T11:54:03.066Z"
   },
   {
    "duration": 1303,
    "start_time": "2022-12-07T11:55:08.207Z"
   },
   {
    "duration": 357,
    "start_time": "2022-12-07T11:55:10.277Z"
   },
   {
    "duration": 23,
    "start_time": "2022-12-07T11:55:12.896Z"
   },
   {
    "duration": 37,
    "start_time": "2022-12-07T11:55:15.389Z"
   },
   {
    "duration": 96,
    "start_time": "2022-12-07T11:55:17.750Z"
   },
   {
    "duration": 7,
    "start_time": "2022-12-07T11:55:20.989Z"
   },
   {
    "duration": 6,
    "start_time": "2022-12-07T11:55:23.485Z"
   },
   {
    "duration": 8,
    "start_time": "2022-12-07T11:55:25.231Z"
   },
   {
    "duration": 20,
    "start_time": "2022-12-07T11:55:27.950Z"
   },
   {
    "duration": 333,
    "start_time": "2022-12-07T11:55:30.454Z"
   },
   {
    "duration": 304,
    "start_time": "2022-12-07T11:55:33.157Z"
   },
   {
    "duration": 296,
    "start_time": "2022-12-07T11:55:35.087Z"
   },
   {
    "duration": 6,
    "start_time": "2022-12-07T11:55:39.030Z"
   },
   {
    "duration": 303,
    "start_time": "2022-12-07T11:55:42.808Z"
   },
   {
    "duration": 5,
    "start_time": "2022-12-07T11:55:44.797Z"
   },
   {
    "duration": 4,
    "start_time": "2022-12-07T11:55:48.342Z"
   },
   {
    "duration": 4,
    "start_time": "2022-12-07T11:55:51.214Z"
   },
   {
    "duration": 4,
    "start_time": "2022-12-07T11:55:54.878Z"
   },
   {
    "duration": 3,
    "start_time": "2022-12-07T11:55:57.766Z"
   },
   {
    "duration": 4,
    "start_time": "2022-12-07T11:56:00.014Z"
   },
   {
    "duration": 3,
    "start_time": "2022-12-07T11:58:30.865Z"
   },
   {
    "duration": 103,
    "start_time": "2022-12-07T11:58:32.882Z"
   },
   {
    "duration": 15,
    "start_time": "2022-12-07T11:59:34.443Z"
   },
   {
    "duration": 15,
    "start_time": "2022-12-07T12:00:33.219Z"
   },
   {
    "duration": 13,
    "start_time": "2022-12-07T12:00:45.763Z"
   },
   {
    "duration": 7,
    "start_time": "2022-12-07T12:10:18.229Z"
   },
   {
    "duration": 22,
    "start_time": "2022-12-07T12:10:21.469Z"
   },
   {
    "duration": 4,
    "start_time": "2022-12-07T12:11:47.767Z"
   },
   {
    "duration": 14,
    "start_time": "2022-12-07T12:11:49.638Z"
   },
   {
    "duration": 7,
    "start_time": "2022-12-07T12:12:04.786Z"
   },
   {
    "duration": 1428,
    "start_time": "2022-12-07T12:18:38.174Z"
   },
   {
    "duration": 430,
    "start_time": "2022-12-07T12:18:41.477Z"
   },
   {
    "duration": 26,
    "start_time": "2022-12-07T12:18:43.453Z"
   },
   {
    "duration": 41,
    "start_time": "2022-12-07T12:18:46.007Z"
   },
   {
    "duration": 120,
    "start_time": "2022-12-07T12:18:48.190Z"
   },
   {
    "duration": 7,
    "start_time": "2022-12-07T12:18:50.614Z"
   },
   {
    "duration": 7,
    "start_time": "2022-12-07T12:18:52.411Z"
   },
   {
    "duration": 9,
    "start_time": "2022-12-07T12:18:54.111Z"
   },
   {
    "duration": 17,
    "start_time": "2022-12-07T12:18:56.406Z"
   },
   {
    "duration": 314,
    "start_time": "2022-12-07T12:18:58.814Z"
   },
   {
    "duration": 291,
    "start_time": "2022-12-07T12:19:00.839Z"
   },
   {
    "duration": 268,
    "start_time": "2022-12-07T12:19:03.422Z"
   },
   {
    "duration": 5,
    "start_time": "2022-12-07T12:19:05.671Z"
   },
   {
    "duration": 327,
    "start_time": "2022-12-07T12:19:08.191Z"
   },
   {
    "duration": 5,
    "start_time": "2022-12-07T12:19:10.358Z"
   },
   {
    "duration": 3,
    "start_time": "2022-12-07T12:19:12.639Z"
   },
   {
    "duration": 3,
    "start_time": "2022-12-07T12:19:15.321Z"
   },
   {
    "duration": 5,
    "start_time": "2022-12-07T12:19:17.311Z"
   },
   {
    "duration": 3,
    "start_time": "2022-12-07T12:19:20.150Z"
   },
   {
    "duration": 4,
    "start_time": "2022-12-07T12:19:22.070Z"
   },
   {
    "duration": 3,
    "start_time": "2022-12-07T12:19:24.327Z"
   },
   {
    "duration": 15,
    "start_time": "2022-12-07T12:19:26.295Z"
   },
   {
    "duration": 5,
    "start_time": "2022-12-07T12:19:30.384Z"
   },
   {
    "duration": 432,
    "start_time": "2022-12-07T12:19:36.495Z"
   },
   {
    "duration": 5,
    "start_time": "2022-12-07T12:19:52.039Z"
   },
   {
    "duration": 1358,
    "start_time": "2022-12-07T12:21:46.211Z"
   },
   {
    "duration": 391,
    "start_time": "2022-12-07T12:21:47.920Z"
   },
   {
    "duration": 27,
    "start_time": "2022-12-07T12:21:49.993Z"
   },
   {
    "duration": 38,
    "start_time": "2022-12-07T12:21:51.913Z"
   },
   {
    "duration": 100,
    "start_time": "2022-12-07T12:21:54.025Z"
   },
   {
    "duration": 7,
    "start_time": "2022-12-07T12:21:56.689Z"
   },
   {
    "duration": 6,
    "start_time": "2022-12-07T12:21:58.489Z"
   },
   {
    "duration": 9,
    "start_time": "2022-12-07T12:22:00.289Z"
   },
   {
    "duration": 17,
    "start_time": "2022-12-07T12:22:02.689Z"
   },
   {
    "duration": 300,
    "start_time": "2022-12-07T12:22:04.729Z"
   },
   {
    "duration": 288,
    "start_time": "2022-12-07T12:22:07.097Z"
   },
   {
    "duration": 285,
    "start_time": "2022-12-07T12:22:09.105Z"
   },
   {
    "duration": 4,
    "start_time": "2022-12-07T12:22:11.841Z"
   },
   {
    "duration": 268,
    "start_time": "2022-12-07T12:22:14.337Z"
   },
   {
    "duration": 4,
    "start_time": "2022-12-07T12:22:16.057Z"
   },
   {
    "duration": 3,
    "start_time": "2022-12-07T12:22:18.577Z"
   },
   {
    "duration": 3,
    "start_time": "2022-12-07T12:22:21.601Z"
   },
   {
    "duration": 4,
    "start_time": "2022-12-07T12:22:23.705Z"
   },
   {
    "duration": 7,
    "start_time": "2022-12-07T12:24:15.531Z"
   },
   {
    "duration": 7,
    "start_time": "2022-12-07T12:24:24.851Z"
   },
   {
    "duration": 5,
    "start_time": "2022-12-07T12:24:26.851Z"
   },
   {
    "duration": 4,
    "start_time": "2022-12-07T12:24:28.948Z"
   },
   {
    "duration": 5,
    "start_time": "2022-12-07T12:24:30.740Z"
   },
   {
    "duration": 4,
    "start_time": "2022-12-07T12:24:33.348Z"
   },
   {
    "duration": 19,
    "start_time": "2022-12-07T12:24:35.107Z"
   },
   {
    "duration": 4,
    "start_time": "2022-12-07T12:24:40.668Z"
   },
   {
    "duration": 1281,
    "start_time": "2022-12-07T12:33:11.747Z"
   },
   {
    "duration": 394,
    "start_time": "2022-12-07T12:33:15.148Z"
   },
   {
    "duration": 25,
    "start_time": "2022-12-07T12:33:17.538Z"
   },
   {
    "duration": 45,
    "start_time": "2022-12-07T12:33:19.884Z"
   },
   {
    "duration": 105,
    "start_time": "2022-12-07T12:33:22.172Z"
   },
   {
    "duration": 10,
    "start_time": "2022-12-07T12:33:24.804Z"
   },
   {
    "duration": 23,
    "start_time": "2022-12-07T12:33:27.204Z"
   },
   {
    "duration": 9,
    "start_time": "2022-12-07T12:33:28.923Z"
   },
   {
    "duration": 22,
    "start_time": "2022-12-07T12:33:31.100Z"
   },
   {
    "duration": 312,
    "start_time": "2022-12-07T12:33:33.444Z"
   },
   {
    "duration": 311,
    "start_time": "2022-12-07T12:33:35.748Z"
   },
   {
    "duration": 299,
    "start_time": "2022-12-07T12:33:37.948Z"
   },
   {
    "duration": 6,
    "start_time": "2022-12-07T12:33:40.788Z"
   },
   {
    "duration": 329,
    "start_time": "2022-12-07T12:33:43.476Z"
   },
   {
    "duration": 6,
    "start_time": "2022-12-07T12:33:45.652Z"
   },
   {
    "duration": 3,
    "start_time": "2022-12-07T12:33:49.684Z"
   },
   {
    "duration": 4,
    "start_time": "2022-12-07T12:33:52.876Z"
   },
   {
    "duration": 5,
    "start_time": "2022-12-07T12:33:55.124Z"
   },
   {
    "duration": 4,
    "start_time": "2022-12-07T12:33:57.580Z"
   },
   {
    "duration": 5,
    "start_time": "2022-12-07T12:33:59.381Z"
   },
   {
    "duration": 4,
    "start_time": "2022-12-07T12:34:01.196Z"
   },
   {
    "duration": 19,
    "start_time": "2022-12-07T12:34:03.189Z"
   },
   {
    "duration": 4,
    "start_time": "2022-12-07T12:34:36.182Z"
   },
   {
    "duration": 3,
    "start_time": "2022-12-07T12:34:38.549Z"
   },
   {
    "duration": 6,
    "start_time": "2022-12-07T12:34:40.397Z"
   },
   {
    "duration": 1379,
    "start_time": "2022-12-07T12:34:43.053Z"
   },
   {
    "duration": 6,
    "start_time": "2022-12-07T12:34:45.973Z"
   },
   {
    "duration": 121,
    "start_time": "2022-12-07T12:34:48.893Z"
   },
   {
    "duration": 1446,
    "start_time": "2022-12-07T12:35:14.173Z"
   },
   {
    "duration": 13,
    "start_time": "2022-12-07T12:35:28.726Z"
   },
   {
    "duration": 1224,
    "start_time": "2022-12-07T12:37:31.184Z"
   },
   {
    "duration": 5,
    "start_time": "2022-12-07T12:37:33.752Z"
   },
   {
    "duration": 1324,
    "start_time": "2022-12-07T12:38:09.876Z"
   },
   {
    "duration": 5,
    "start_time": "2022-12-07T12:38:12.328Z"
   },
   {
    "duration": 4,
    "start_time": "2022-12-07T12:39:48.347Z"
   },
   {
    "duration": 1462,
    "start_time": "2022-12-07T12:39:53.730Z"
   },
   {
    "duration": 4,
    "start_time": "2022-12-07T12:39:55.363Z"
   },
   {
    "duration": 1406,
    "start_time": "2022-12-07T12:40:01.235Z"
   },
   {
    "duration": 1348,
    "start_time": "2022-12-07T12:40:08.650Z"
   },
   {
    "duration": 5,
    "start_time": "2022-12-07T12:40:10.378Z"
   },
   {
    "duration": 4,
    "start_time": "2022-12-07T12:49:46.373Z"
   },
   {
    "duration": 6,
    "start_time": "2022-12-07T12:49:55.063Z"
   },
   {
    "duration": 4,
    "start_time": "2022-12-07T12:50:51.173Z"
   },
   {
    "duration": 1366,
    "start_time": "2022-12-07T12:50:58.506Z"
   },
   {
    "duration": 5,
    "start_time": "2022-12-07T12:51:28.614Z"
   },
   {
    "duration": 5,
    "start_time": "2022-12-07T13:18:38.828Z"
   },
   {
    "duration": 1303,
    "start_time": "2022-12-07T13:18:45.268Z"
   },
   {
    "duration": 416,
    "start_time": "2022-12-07T13:18:47.824Z"
   },
   {
    "duration": 29,
    "start_time": "2022-12-07T13:18:49.932Z"
   },
   {
    "duration": 39,
    "start_time": "2022-12-07T13:18:52.712Z"
   },
   {
    "duration": 100,
    "start_time": "2022-12-07T13:18:55.245Z"
   },
   {
    "duration": 6,
    "start_time": "2022-12-07T13:18:57.789Z"
   },
   {
    "duration": 7,
    "start_time": "2022-12-07T13:18:59.580Z"
   },
   {
    "duration": 9,
    "start_time": "2022-12-07T13:19:01.380Z"
   },
   {
    "duration": 18,
    "start_time": "2022-12-07T13:19:03.948Z"
   },
   {
    "duration": 325,
    "start_time": "2022-12-07T13:19:05.724Z"
   },
   {
    "duration": 305,
    "start_time": "2022-12-07T13:19:08.253Z"
   },
   {
    "duration": 303,
    "start_time": "2022-12-07T13:19:10.444Z"
   },
   {
    "duration": 4,
    "start_time": "2022-12-07T13:19:12.525Z"
   },
   {
    "duration": 251,
    "start_time": "2022-12-07T13:19:15.261Z"
   },
   {
    "duration": 5,
    "start_time": "2022-12-07T13:19:16.933Z"
   },
   {
    "duration": 4,
    "start_time": "2022-12-07T13:19:19.311Z"
   },
   {
    "duration": 3,
    "start_time": "2022-12-07T13:19:21.317Z"
   },
   {
    "duration": 3,
    "start_time": "2022-12-07T13:19:23.133Z"
   },
   {
    "duration": 4,
    "start_time": "2022-12-07T13:19:25.468Z"
   },
   {
    "duration": 3,
    "start_time": "2022-12-07T13:19:27.549Z"
   },
   {
    "duration": 4,
    "start_time": "2022-12-07T13:19:30.037Z"
   },
   {
    "duration": 14,
    "start_time": "2022-12-07T13:19:32.045Z"
   },
   {
    "duration": 4,
    "start_time": "2022-12-07T13:19:37.260Z"
   },
   {
    "duration": 5,
    "start_time": "2022-12-07T13:19:38.913Z"
   },
   {
    "duration": 1359,
    "start_time": "2022-12-07T13:19:42.414Z"
   },
   {
    "duration": 5,
    "start_time": "2022-12-07T13:19:45.670Z"
   },
   {
    "duration": 1312,
    "start_time": "2022-12-07T13:19:47.724Z"
   },
   {
    "duration": 4,
    "start_time": "2022-12-07T13:19:50.430Z"
   },
   {
    "duration": 1374,
    "start_time": "2022-12-07T13:19:53.614Z"
   },
   {
    "duration": 6,
    "start_time": "2022-12-07T13:19:56.093Z"
   }
  ],
  "kernelspec": {
   "display_name": "Python 3 (ipykernel)",
   "language": "python",
   "name": "python3"
  },
  "language_info": {
   "codemirror_mode": {
    "name": "ipython",
    "version": 3
   },
   "file_extension": ".py",
   "mimetype": "text/x-python",
   "name": "python",
   "nbconvert_exporter": "python",
   "pygments_lexer": "ipython3",
   "version": "3.9.5"
  },
  "toc": {
   "base_numbering": 1,
   "nav_menu": {},
   "number_sections": true,
   "sideBar": true,
   "skip_h1_title": true,
   "title_cell": "Table of Contents",
   "title_sidebar": "Contents",
   "toc_cell": false,
   "toc_position": {},
   "toc_section_display": true,
   "toc_window_display": false
  }
 },
 "nbformat": 4,
 "nbformat_minor": 2
}
